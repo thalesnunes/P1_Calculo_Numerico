{
 "cells": [
  {
   "cell_type": "code",
   "execution_count": null,
   "metadata": {},
   "outputs": [],
   "source": [
    "from pprint import pprint\n",
    "import scipy\n",
    "import scipy.linalg   # SciPy Linear Algebra Library"
   ]
  },
  {
   "cell_type": "code",
   "execution_count": null,
   "metadata": {},
   "outputs": [],
   "source": [
    "A = scipy.array([[ 3, -1, -1],\n",
    "                 [-1, 3, -1],\n",
    "                 [-1, -1, 3]])\n",
    "b = scipy.array([-1, 1, 6])\n",
    "P, L, U = scipy.linalg.lu(A)\n",
    "\n",
    "alg_sig = 2\n",
    "\n",
    "P, L, U = P.round(decimals=alg_sig), L.round(decimals=alg_sig), U.round(decimals=alg_sig)\n",
    "\n",
    "print (\"A:\")\n",
    "pprint(A)\n",
    "\n",
    "print (\"P:\")\n",
    "pprint(P)\n",
    "\n",
    "print (\"L:\")\n",
    "pprint(L)\n",
    "\n",
    "print (\"U:\")\n",
    "pprint(U)"
   ]
  },
  {
   "cell_type": "code",
   "execution_count": null,
   "metadata": {
    "tags": [
     "outputPrepend"
    ]
   },
   "outputs": [],
   "source": [
    "y = scipy.linalg.solve(L, P.dot(b))\n",
    "y = y.round(decimals=alg_sig)\n",
    "y"
   ]
  },
  {
   "cell_type": "code",
   "execution_count": null,
   "metadata": {},
   "outputs": [],
   "source": [
    "x = scipy.linalg.solve(U, y)\n",
    "x = x.round(decimals=alg_sig)\n",
    "x"
   ]
  },
  {
   "cell_type": "code",
   "execution_count": null,
   "metadata": {},
   "outputs": [],
   "source": [
    "#####################################################\n",
    "###                  RESÍDUO                      ###\n",
    "#####################################################\n",
    "\n",
    "A = scipy.array([[3, -1, 1],\n",
    "                 [-1, 3, 1],\n",
    "                 [1, 3, 3]])\n",
    "\n",
    "b = scipy.array([1, 2, 1])\n",
    "\n",
    "x_0 = scipy.array([1.6, 1.8, -2])\n",
    "\n",
    "alg_sig = 2\n",
    "\n",
    "r_0 = b - A.dot(x_0)\n",
    "r_0"
   ]
  },
  {
   "cell_type": "code",
   "execution_count": null,
   "metadata": {},
   "outputs": [],
   "source": [
    "P, L, U = scipy.linalg.lu(A)\n",
    "\n",
    "L = scipy.array([[1, 0, 0],\n",
    "                 [0.33, 1, 0],\n",
    "                 [-0.33, 0.82, 1]])\n",
    "\n",
    "U = scipy.array([[3, -1, 1],\n",
    "                 [0, 3.3, 2.7],\n",
    "                 [0, 0, -0.9]])\n",
    "\n",
    "print (\"A:\")\n",
    "pprint(A)\n",
    "\n",
    "print (\"P:\")\n",
    "pprint(P)\n",
    "\n",
    "print (\"L:\")\n",
    "pprint(L)\n",
    "\n",
    "print (\"U:\")\n",
    "pprint(U)"
   ]
  },
  {
   "cell_type": "code",
   "execution_count": null,
   "metadata": {},
   "outputs": [],
   "source": [
    "y = scipy.linalg.solve(L, P.dot(r_0))\n",
    "y = y.round(decimals=2*alg_sig)\n",
    "y"
   ]
  },
  {
   "cell_type": "code",
   "execution_count": null,
   "metadata": {},
   "outputs": [],
   "source": [
    "c_0 = scipy.linalg.solve(U, y)\n",
    "c_0 = c_0.round(decimals=alg_sig)\n",
    "c_0"
   ]
  },
  {
   "cell_type": "code",
   "execution_count": null,
   "metadata": {},
   "outputs": [],
   "source": [
    "x = x_0 + c_0\n",
    "x"
   ]
  }
 ],
 "metadata": {
  "kernelspec": {
   "display_name": "Python 3.7.7 64-bit ('tensor_flow': conda)",
   "language": "python",
   "name": "python37764bittensorflowcondaf80c0e406c914652a4ecbd43f559b156"
  },
  "language_info": {
   "codemirror_mode": {
    "name": "ipython",
    "version": 3
   },
   "file_extension": ".py",
   "mimetype": "text/x-python",
   "name": "python",
   "nbconvert_exporter": "python",
   "pygments_lexer": "ipython3",
   "version": "3.7.7-final"
  }
 },
 "nbformat": 4,
 "nbformat_minor": 2
}