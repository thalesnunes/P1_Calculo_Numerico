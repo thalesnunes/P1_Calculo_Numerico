{
 "cells": [
  {
   "cell_type": "code",
   "execution_count": 17,
   "metadata": {},
   "outputs": [],
   "source": [
    "from sympy import *\n",
    "from fractions import Fraction\n",
    "\n",
    "A = [[8, -1, 2], [1, 2, 0], [1, 0.5, -1]]\n",
    "b = [4, 1.5, 0.5]"
   ]
  },
  {
   "cell_type": "code",
   "execution_count": 20,
   "metadata": {},
   "outputs": [
    {
     "name": "stdout",
     "output_type": "stream",
     "text": [
      "Beta1: 3/8\n",
      "Beta2: 3/16\n",
      "Beta3: 15/32\n",
      "CONVERGE\n"
     ]
    }
   ],
   "source": [
    "beta = {i+1: 1 for i in range(len(A))}\n",
    "\n",
    "for i in range(len(A)):\n",
    "    soma = 0\n",
    "    for j in range(len(A[0])):\n",
    "        if not i == j: soma+=abs(A[i][j])*beta[j+1] \n",
    "    beta[i+1] = soma/abs(A[i][i])\n",
    "\n",
    "for key in beta:\n",
    "    print(f'Beta{key}: {Fraction(beta[key])}')\n",
    "\n",
    "if max(beta.values()) > 1:\n",
    "    print('NÃO CONVERGE')\n",
    "    conv = False\n",
    "else:\n",
    "    print('CONVERGE')\n",
    "    conv = True"
   ]
  },
  {
   "cell_type": "code",
   "execution_count": null,
   "metadata": {},
   "outputs": [],
   "source": []
  }
 ],
 "metadata": {
  "kernelspec": {
   "display_name": "Python 3",
   "language": "python",
   "name": "python3"
  },
  "language_info": {
   "codemirror_mode": {
    "name": "ipython",
    "version": 3
   },
   "file_extension": ".py",
   "mimetype": "text/x-python",
   "name": "python",
   "nbconvert_exporter": "python",
   "pygments_lexer": "ipython3",
   "version": "3.7.7"
  }
 },
 "nbformat": 4,
 "nbformat_minor": 4
}
