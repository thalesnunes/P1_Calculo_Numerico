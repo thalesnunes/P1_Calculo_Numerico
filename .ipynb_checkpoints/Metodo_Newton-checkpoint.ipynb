{
 "cells": [
  {
   "cell_type": "code",
   "execution_count": null,
   "metadata": {},
   "outputs": [],
   "source": [
    "from sympy import *\n",
    "import pandas as pd\n",
    "\n",
    "pi = 3.14159265359"
   ]
  },
  {
   "cell_type": "code",
   "execution_count": null,
   "metadata": {},
   "outputs": [],
   "source": [
    "#1 - SUBSTITUIR A EQUAÇÃO f A SEGUIR\n",
    "\n",
    "x = Symbol('x')\n",
    "f = cos(x)/sin(x) + x/sin(x)**2 - 2 #equation to be used"
   ]
  },
  {
   "cell_type": "code",
   "execution_count": null,
   "metadata": {},
   "outputs": [],
   "source": [
    "#2 - TESTAR VALORES DE INTERVALO, ACHAR O MENOR POSSÍVEL QUE SATISFAÇA f(a)*f(b) < 0\n",
    "f.subs(x, pi/3)"
   ]
  },
  {
   "cell_type": "code",
   "execution_count": null,
   "metadata": {},
   "outputs": [],
   "source": [
    "#3 - SUBSTITUIR INTERVALO, ORDEM CRESCENTE, EM low E high\n",
    "low = pi/4\n",
    "high = pi/3"
   ]
  },
  {
   "cell_type": "code",
   "execution_count": null,
   "metadata": {},
   "outputs": [],
   "source": [
    "#4 - Primeira derivada\n",
    "der1 = f.diff(x)\n",
    "der1.simplify()"
   ]
  },
  {
   "cell_type": "code",
   "execution_count": null,
   "metadata": {},
   "outputs": [],
   "source": [
    "#5 - Segunda derivada\n",
    "der2 = f.diff(x).diff(x)\n",
    "der2.simplify()"
   ]
  },
  {
   "cell_type": "code",
   "execution_count": null,
   "metadata": {},
   "outputs": [],
   "source": [
    "#6 - Função Fi\n",
    "fi = x - f/der1"
   ]
  },
  {
   "cell_type": "code",
   "execution_count": null,
   "metadata": {},
   "outputs": [],
   "source": [
    "#7 - Testar se Fi(low) está no intervalo, se não, usar high\n",
    "if low < fi.subs(x, low) < high:\n",
    "    x0 = low\n",
    "    fi.subs(x, x0)\n",
    "    print('Usar low')\n",
    "else:\n",
    "    x0 = high\n",
    "    fi.subs(x, x0)\n",
    "    print('Usar high')"
   ]
  },
  {
   "cell_type": "code",
   "execution_count": null,
   "metadata": {},
   "outputs": [],
   "source": [
    "#8 - Verificando a Sequência\n",
    "print(x0)\n",
    "x1 = fi.subs(x, x0)\n",
    "print(x1)\n",
    "x2 = fi.subs(x, x1)\n",
    "print(x2)"
   ]
  },
  {
   "cell_type": "code",
   "execution_count": null,
   "metadata": {},
   "outputs": [],
   "source": [
    "#9 - Iterando, printa a tabela das iterações\n",
    "err = 0.001\n",
    "\n",
    "if (x0>x1 and x2>x1) or (x0<x1 and x2<x1):\n",
    "    method = 'oscila'\n",
    "elif x0<x1<x2:\n",
    "    method = 'crescente'\n",
    "elif x0>x1>x2:\n",
    "    method = 'decrescente'\n",
    "\n",
    "x_aux = x0\n",
    "x1 = f.subs(x, x0)\n",
    "teta, f_teta, f_linha, fi_teta, teta_err = [], [], [], [], []\n",
    "\n",
    "if method == 'oscila':\n",
    "    while not Abs(x1-x0)/2 < err:\n",
    "        x0 = x_aux\n",
    "        teta.append(x0)\n",
    "        f_teta.append(f.subs(x, x0))\n",
    "        f_linha.append(der1.subs(x, x0))\n",
    "        x1 = fi.subs(x, x0)\n",
    "        fi_teta.append(x1)\n",
    "        x_aux = x1\n",
    "    dic = {'teta': teta, 'f_teta': f_teta, 'f_linha': f_linha, 'fi_teta': fi_teta}\n",
    "    \n",
    "if method == 'crescente':\n",
    "    while not f.subs(x, x0)*f.subs(x, x1) < 0:\n",
    "        x0 = x_aux\n",
    "        teta.append(x0)\n",
    "        x0 = x0+2*err\n",
    "        teta_err.append(x0)\n",
    "        f_teta.append(f.subs(x, x0))\n",
    "        f_linha.append(der1.subs(x, x0))\n",
    "        x1 = fi.subs(x, x0)\n",
    "        fi_teta.append(x1)\n",
    "        x_aux = x1\n",
    "    dic = {'teta': teta, 'teta_err': teta_err, 'f_teta': f_teta, 'f_linha': f_linha, 'fi_teta': fi_teta}\n",
    "    \n",
    "if method == 'decrescente':\n",
    "    while not f.subs(x, x0)*f.subs(x, x1) < 0:\n",
    "        x0 = x_aux\n",
    "        teta.append(x0)\n",
    "        teta_err.append(x0-2*err)\n",
    "        f_teta.append(f.subs(x, x0))\n",
    "        f_linha.append(der1.subs(x, x0))\n",
    "        x1 = fi.subs(x, x0)\n",
    "        fi_teta.append(x1)\n",
    "        x_aux = x1\n",
    "    dic = {'teta': teta, 'teta_err': teta_err, 'f_teta': f_teta, 'f_linha': f_linha, 'fi_teta': fi_teta}\n",
    "\n",
    "print(method.upper())\n",
    "df = pd.DataFrame.from_dict(dic)\n",
    "df"
   ]
  },
  {
   "cell_type": "code",
   "execution_count": null,
   "metadata": {},
   "outputs": [],
   "source": [
    "#10 - calcula x_til\n",
    "x_n = df.iloc[-1].teta\n",
    "x_n1 = df.iloc[-1].fi_teta\n",
    "if method == 'oscila': x_til = (x_n + x_n1)/2\n",
    "elif method == 'crescente': x_til = x_n + err\n",
    "elif method == 'decrescente': x_til = x_n - err\n",
    "\n",
    "x_til"
   ]
  }
 ],
 "metadata": {
  "kernelspec": {
   "display_name": "Python 3",
   "language": "python",
   "name": "python3"
  },
  "language_info": {
   "codemirror_mode": {
    "name": "ipython",
    "version": 3
   },
   "file_extension": ".py",
   "mimetype": "text/x-python",
   "name": "python",
   "nbconvert_exporter": "python",
   "pygments_lexer": "ipython3",
   "version": "3.7.7"
  }
 },
 "nbformat": 4,
 "nbformat_minor": 4
}
