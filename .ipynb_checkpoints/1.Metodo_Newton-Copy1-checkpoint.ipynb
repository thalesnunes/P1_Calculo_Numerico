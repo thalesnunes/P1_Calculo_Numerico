{
 "cells": [
  {
   "cell_type": "code",
   "execution_count": 107,
   "metadata": {},
   "outputs": [],
   "source": [
    "from sympy import *\n",
    "import pandas as pd\n",
    "\n",
    "pi = 3.14159265359"
   ]
  },
  {
   "cell_type": "code",
   "execution_count": 108,
   "metadata": {},
   "outputs": [],
   "source": [
    "#1 - SUBSTITUIR A EQUAÇÃO f A SEGUIR\n",
    "\n",
    "x = Symbol('x')\n",
    "f = x**3 - 13*(x**2) - 29*x - 15 #equation to be used"
   ]
  },
  {
   "cell_type": "code",
   "execution_count": 109,
   "metadata": {},
   "outputs": [
    {
     "data": {
      "text/latex": [
       "$\\displaystyle -225.0$"
      ],
      "text/plain": [
       "-225.000000000000"
      ]
     },
     "execution_count": 109,
     "metadata": {},
     "output_type": "execute_result"
    }
   ],
   "source": [
    "#2 - TESTAR VALORES DE INTERVALO, ACHAR O MENOR POSSÍVEL QUE SATISFAÇA f(a)*f(b) < 0\n",
    "f.subs(x, 14).evalf()"
   ]
  },
  {
   "cell_type": "code",
   "execution_count": 110,
   "metadata": {},
   "outputs": [],
   "source": [
    "#3 - SUBSTITUIR INTERVALO, ORDEM CRESCENTE, EM low E high\n",
    "low = 12\n",
    "high = 16"
   ]
  },
  {
   "cell_type": "code",
   "execution_count": 111,
   "metadata": {},
   "outputs": [
    {
     "data": {
      "text/latex": [
       "$\\displaystyle 3 x^{2} - 26 x - 29$"
      ],
      "text/plain": [
       "3*x**2 - 26*x - 29"
      ]
     },
     "execution_count": 111,
     "metadata": {},
     "output_type": "execute_result"
    }
   ],
   "source": [
    "#4 - Primeira derivada\n",
    "der1 = f.diff(x)\n",
    "der1.simplify()"
   ]
  },
  {
   "cell_type": "code",
   "execution_count": 112,
   "metadata": {},
   "outputs": [
    {
     "data": {
      "text/latex": [
       "$\\displaystyle 6 x - 26$"
      ],
      "text/plain": [
       "6*x - 26"
      ]
     },
     "execution_count": 112,
     "metadata": {},
     "output_type": "execute_result"
    }
   ],
   "source": [
    "#5 - Segunda derivada\n",
    "der2 = f.diff(x).diff(x)\n",
    "der2.simplify()"
   ]
  },
  {
   "cell_type": "code",
   "execution_count": 113,
   "metadata": {},
   "outputs": [
    {
     "data": {
      "text/latex": [
       "$\\displaystyle \\frac{2 x^{2} - 15 x + 15}{3 x - 29}$"
      ],
      "text/plain": [
       "(2*x**2 - 15*x + 15)/(3*x - 29)"
      ]
     },
     "execution_count": 113,
     "metadata": {},
     "output_type": "execute_result"
    }
   ],
   "source": [
    "#6 - Função Fi\n",
    "fi = x - f/der1\n",
    "fi.simplify()"
   ]
  },
  {
   "cell_type": "code",
   "execution_count": 114,
   "metadata": {},
   "outputs": [
    {
     "name": "stdout",
     "output_type": "stream",
     "text": [
      "Usar high\n"
     ]
    }
   ],
   "source": [
    "#7 - Testar se Fi(low) está no intervalo, se não, usar high\n",
    "if low < fi.subs(x, low) < high:\n",
    "    x0 = low\n",
    "    fi.subs(x, x0)\n",
    "    print('Usar low')\n",
    "else:\n",
    "    x0 = high\n",
    "    fi.subs(x, x0)\n",
    "    print('Usar high')"
   ]
  },
  {
   "cell_type": "code",
   "execution_count": 115,
   "metadata": {},
   "outputs": [
    {
     "name": "stdout",
     "output_type": "stream",
     "text": [
      "16\n",
      "15.1052631578947\n",
      "15.0013582342954\n"
     ]
    }
   ],
   "source": [
    "#8 - Verificando a Sequência\n",
    "print(x0)\n",
    "x1 = fi.subs(x, x0).evalf()\n",
    "print(x1)\n",
    "x2 = fi.subs(x, x1).evalf()\n",
    "print(x2)"
   ]
  },
  {
   "cell_type": "code",
   "execution_count": 116,
   "metadata": {},
   "outputs": [
    {
     "name": "stdout",
     "output_type": "stream",
     "text": [
      "DECRESCENTE\n"
     ]
    },
    {
     "data": {
      "text/html": [
       "<div>\n",
       "<style scoped>\n",
       "    .dataframe tbody tr th:only-of-type {\n",
       "        vertical-align: middle;\n",
       "    }\n",
       "\n",
       "    .dataframe tbody tr th {\n",
       "        vertical-align: top;\n",
       "    }\n",
       "\n",
       "    .dataframe thead th {\n",
       "        text-align: right;\n",
       "    }\n",
       "</style>\n",
       "<table border=\"1\" class=\"dataframe\">\n",
       "  <thead>\n",
       "    <tr style=\"text-align: right;\">\n",
       "      <th></th>\n",
       "      <th>teta</th>\n",
       "      <th>teta_err</th>\n",
       "      <th>f_teta</th>\n",
       "      <th>f_linha</th>\n",
       "      <th>fi_teta</th>\n",
       "    </tr>\n",
       "  </thead>\n",
       "  <tbody>\n",
       "    <tr>\n",
       "      <th>0</th>\n",
       "      <td>16</td>\n",
       "      <td>15.998</td>\n",
       "      <td>288.354139992000</td>\n",
       "      <td>322.860012000000</td>\n",
       "      <td>15.1048756449405</td>\n",
       "    </tr>\n",
       "    <tr>\n",
       "      <th>1</th>\n",
       "      <td>15.1048756449405</td>\n",
       "      <td>15.1028756449405</td>\n",
       "      <td>26.6759226249992</td>\n",
       "      <td>262.615791471158</td>\n",
       "      <td>15.0012978895604</td>\n",
       "    </tr>\n",
       "    <tr>\n",
       "      <th>2</th>\n",
       "      <td>15.0012978895604</td>\n",
       "      <td>14.9992978895604</td>\n",
       "      <td>-0.179724498183077</td>\n",
       "      <td>255.955066410745</td>\n",
       "      <td>15.0000000616280</td>\n",
       "    </tr>\n",
       "  </tbody>\n",
       "</table>\n",
       "</div>"
      ],
      "text/plain": [
       "               teta          teta_err              f_teta           f_linha  \\\n",
       "0                16            15.998    288.354139992000  322.860012000000   \n",
       "1  15.1048756449405  15.1028756449405    26.6759226249992  262.615791471158   \n",
       "2  15.0012978895604  14.9992978895604  -0.179724498183077  255.955066410745   \n",
       "\n",
       "            fi_teta  \n",
       "0  15.1048756449405  \n",
       "1  15.0012978895604  \n",
       "2  15.0000000616280  "
      ]
     },
     "execution_count": 116,
     "metadata": {},
     "output_type": "execute_result"
    }
   ],
   "source": [
    "#9 - Iterando, printa a tabela das iterações\n",
    "err = 0.001\n",
    "\n",
    "if (x0>x1 and x2>x1) or (x0<x1 and x2<x1):\n",
    "    method = 'oscila'\n",
    "elif x0<x1<x2:\n",
    "    method = 'crescente'\n",
    "elif x0>x1>x2:\n",
    "    method = 'decrescente'\n",
    "\n",
    "x_aux = x0\n",
    "x1 = f.subs(x, x0)\n",
    "teta, f_teta, f_linha, fi_teta, teta_err = [], [], [], [], []\n",
    "\n",
    "if method == 'oscila':\n",
    "    while not Abs(x1-x0)/2 < err:\n",
    "        x0 = x_aux\n",
    "        teta.append(x0)\n",
    "        f_teta.append(f.subs(x, x0).evalf())\n",
    "        f_linha.append(der1.subs(x, x0).evalf())\n",
    "        x1 = fi.subs(x, x0).evalf()\n",
    "        fi_teta.append(x1)\n",
    "        x_aux = x1\n",
    "    dic = {'teta': teta, 'f_teta': f_teta, 'f_linha': f_linha, 'fi_teta': fi_teta}\n",
    "    \n",
    "if method == 'crescente':\n",
    "    while not f.subs(x, x0)*f.subs(x, x1) < 0:\n",
    "        x0 = x_aux\n",
    "        teta.append(x0)\n",
    "        x0 = x0+2*err\n",
    "        teta_err.append(x0)\n",
    "        f_teta.append(f.subs(x, x0).evalf())\n",
    "        f_linha.append(der1.subs(x, x0).evalf())\n",
    "        x1 = fi.subs(x, x0).evalf()\n",
    "        fi_teta.append(x1)\n",
    "        x_aux = x1\n",
    "    dic = {'teta': teta, 'teta_err': teta_err, 'f_teta': f_teta, 'f_linha': f_linha, 'fi_teta': fi_teta}\n",
    "    \n",
    "if method == 'decrescente':\n",
    "    while not f.subs(x, x0)*f.subs(x, x1) < 0:\n",
    "        x0 = x_aux\n",
    "        teta.append(x0)\n",
    "        x0 = x0-2*err\n",
    "        teta_err.append(x0)\n",
    "        f_teta.append(f.subs(x, x0).evalf())\n",
    "        f_linha.append(der1.subs(x, x0).evalf())\n",
    "        x1 = fi.subs(x, x0).evalf()\n",
    "        fi_teta.append(x1)\n",
    "        x_aux = x1\n",
    "    dic = {'teta': teta, 'teta_err': teta_err, 'f_teta': f_teta, 'f_linha': f_linha, 'fi_teta': fi_teta}\n",
    "\n",
    "print(method.upper())\n",
    "df = pd.DataFrame.from_dict(dic)\n",
    "df"
   ]
  },
  {
   "cell_type": "code",
   "execution_count": 117,
   "metadata": {},
   "outputs": [
    {
     "data": {
      "text/latex": [
       "$\\displaystyle 15.0002978895604$"
      ],
      "text/plain": [
       "15.0002978895604"
      ]
     },
     "execution_count": 117,
     "metadata": {},
     "output_type": "execute_result"
    }
   ],
   "source": [
    "#10 - calcula x_til\n",
    "x_n = df.iloc[-1].teta\n",
    "x_n1 = df.iloc[-1].fi_teta\n",
    "\n",
    "if method == 'oscila': x_til = (x_n + x_n1)/2\n",
    "elif method == 'crescente': x_til = x_n + err\n",
    "elif method == 'decrescente': x_til = x_n - err\n",
    "\n",
    "x_til"
   ]
  }
 ],
 "metadata": {
  "kernelspec": {
   "display_name": "Python 3",
   "language": "python",
   "name": "python3"
  },
  "language_info": {
   "codemirror_mode": {
    "name": "ipython",
    "version": 3
   },
   "file_extension": ".py",
   "mimetype": "text/x-python",
   "name": "python",
   "nbconvert_exporter": "python",
   "pygments_lexer": "ipython3",
   "version": "3.7.7"
  }
 },
 "nbformat": 4,
 "nbformat_minor": 4
}
