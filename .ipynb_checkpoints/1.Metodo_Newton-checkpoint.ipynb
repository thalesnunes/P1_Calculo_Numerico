{
 "cells": [
  {
   "cell_type": "code",
   "execution_count": 68,
   "metadata": {},
   "outputs": [],
   "source": [
    "from sympy import *\n",
    "import pandas as pd\n",
    "\n",
    "pi = 3.14159265359"
   ]
  },
  {
   "cell_type": "code",
   "execution_count": 87,
   "metadata": {},
   "outputs": [],
   "source": [
    "#1 - SUBSTITUIR A EQUAÇÃO f A SEGUIR\n",
    "\n",
    "x = Symbol('x')\n",
    "f = x**3 - 13*(x**2) - 29*x - 15 #equation to be used"
   ]
  },
  {
   "cell_type": "code",
   "execution_count": 88,
   "metadata": {},
   "outputs": [
    {
     "data": {
      "text/latex": [
       "$\\displaystyle -225.0$"
      ],
      "text/plain": [
       "-225.000000000000"
      ]
     },
     "execution_count": 88,
     "metadata": {},
     "output_type": "execute_result"
    }
   ],
   "source": [
    "#2 - TESTAR VALORES DE INTERVALO, ACHAR O MENOR POSSÍVEL QUE SATISFAÇA f(a)*f(b) < 0\n",
    "f.subs(x, 14).evalf()"
   ]
  },
  {
   "cell_type": "code",
   "execution_count": 89,
   "metadata": {},
   "outputs": [],
   "source": [
    "#3 - SUBSTITUIR INTERVALO, ORDEM CRESCENTE, EM low E high\n",
    "low = 12\n",
    "high = 16"
   ]
  },
  {
   "cell_type": "code",
   "execution_count": 90,
   "metadata": {},
   "outputs": [
    {
     "data": {
      "text/latex": [
       "$\\displaystyle 3 x^{2} - 26 x - 29$"
      ],
      "text/plain": [
       "3*x**2 - 26*x - 29"
      ]
     },
     "execution_count": 90,
     "metadata": {},
     "output_type": "execute_result"
    }
   ],
   "source": [
    "#4 - Primeira derivada\n",
    "der1 = f.diff(x)\n",
    "der1.simplify()"
   ]
  },
  {
   "cell_type": "code",
   "execution_count": 91,
   "metadata": {},
   "outputs": [
    {
     "data": {
      "text/latex": [
       "$\\displaystyle 6 x - 26$"
      ],
      "text/plain": [
       "6*x - 26"
      ]
     },
     "execution_count": 91,
     "metadata": {},
     "output_type": "execute_result"
    }
   ],
   "source": [
    "#5 - Segunda derivada\n",
    "der2 = f.diff(x).diff(x)\n",
    "der2.simplify()"
   ]
  },
  {
   "cell_type": "code",
   "execution_count": 92,
   "metadata": {},
   "outputs": [
    {
     "data": {
      "text/latex": [
       "$\\displaystyle \\frac{2 x^{2} - 15 x + 15}{3 x - 29}$"
      ],
      "text/plain": [
       "(2*x**2 - 15*x + 15)/(3*x - 29)"
      ]
     },
     "execution_count": 92,
     "metadata": {},
     "output_type": "execute_result"
    }
   ],
   "source": [
    "#6 - Função Fi\n",
    "fi = x - f/der1\n",
    "fi.simplify()"
   ]
  },
  {
   "cell_type": "code",
   "execution_count": 93,
   "metadata": {},
   "outputs": [
    {
     "name": "stdout",
     "output_type": "stream",
     "text": [
      "Usar high\n"
     ]
    }
   ],
   "source": [
    "#7 - Testar se Fi(low) está no intervalo, se não, usar high\n",
    "if low < fi.subs(x, low) < high:\n",
    "    x0 = low\n",
    "    fi.subs(x, x0)\n",
    "    print('Usar low')\n",
    "else:\n",
    "    x0 = high\n",
    "    fi.subs(x, x0)\n",
    "    print('Usar high')"
   ]
  },
  {
   "cell_type": "code",
   "execution_count": 94,
   "metadata": {},
   "outputs": [
    {
     "name": "stdout",
     "output_type": "stream",
     "text": [
      "16\n",
      "15.1052631578947\n",
      "15.0013582342954\n"
     ]
    }
   ],
   "source": [
    "#8 - Verificando a Sequência\n",
    "print(x0)\n",
    "x1 = fi.subs(x, x0).evalf()\n",
    "print(x1)\n",
    "x2 = fi.subs(x, x1).evalf()\n",
    "print(x2)"
   ]
  },
  {
   "cell_type": "code",
   "execution_count": 95,
   "metadata": {},
   "outputs": [
    {
     "ename": "KeyboardInterrupt",
     "evalue": "",
     "output_type": "error",
     "traceback": [
      "\u001b[1;31m---------------------------------------------------------------------------\u001b[0m",
      "\u001b[1;31mKeyboardInterrupt\u001b[0m                         Traceback (most recent call last)",
      "\u001b[1;32m<ipython-input-95-90bf2acd7bb8>\u001b[0m in \u001b[0;36m<module>\u001b[1;34m\u001b[0m\n\u001b[0;32m     38\u001b[0m \u001b[1;33m\u001b[0m\u001b[0m\n\u001b[0;32m     39\u001b[0m \u001b[1;32mif\u001b[0m \u001b[0mmethod\u001b[0m \u001b[1;33m==\u001b[0m \u001b[1;34m'decrescente'\u001b[0m\u001b[1;33m:\u001b[0m\u001b[1;33m\u001b[0m\u001b[1;33m\u001b[0m\u001b[0m\n\u001b[1;32m---> 40\u001b[1;33m     \u001b[1;32mwhile\u001b[0m \u001b[1;32mnot\u001b[0m \u001b[0mf\u001b[0m\u001b[1;33m.\u001b[0m\u001b[0msubs\u001b[0m\u001b[1;33m(\u001b[0m\u001b[0mx\u001b[0m\u001b[1;33m,\u001b[0m \u001b[0mx0\u001b[0m\u001b[1;33m)\u001b[0m\u001b[1;33m*\u001b[0m\u001b[0mf\u001b[0m\u001b[1;33m.\u001b[0m\u001b[0msubs\u001b[0m\u001b[1;33m(\u001b[0m\u001b[0mx\u001b[0m\u001b[1;33m,\u001b[0m \u001b[0mx1\u001b[0m\u001b[1;33m)\u001b[0m \u001b[1;33m<\u001b[0m \u001b[1;36m0\u001b[0m\u001b[1;33m:\u001b[0m\u001b[1;33m\u001b[0m\u001b[1;33m\u001b[0m\u001b[0m\n\u001b[0m\u001b[0;32m     41\u001b[0m         \u001b[0mx0\u001b[0m \u001b[1;33m=\u001b[0m \u001b[0mx_aux\u001b[0m\u001b[1;33m\u001b[0m\u001b[1;33m\u001b[0m\u001b[0m\n\u001b[0;32m     42\u001b[0m         \u001b[0mteta\u001b[0m\u001b[1;33m.\u001b[0m\u001b[0mappend\u001b[0m\u001b[1;33m(\u001b[0m\u001b[0mx0\u001b[0m\u001b[1;33m)\u001b[0m\u001b[1;33m\u001b[0m\u001b[1;33m\u001b[0m\u001b[0m\n",
      "\u001b[1;32m~\\anaconda3\\lib\\site-packages\\sympy\\core\\basic.py\u001b[0m in \u001b[0;36msubs\u001b[1;34m(self, *args, **kwargs)\u001b[0m\n\u001b[0;32m    938\u001b[0m             \u001b[1;31m# skip if there is no change\u001b[0m\u001b[1;33m\u001b[0m\u001b[1;33m\u001b[0m\u001b[1;33m\u001b[0m\u001b[0m\n\u001b[0;32m    939\u001b[0m             \u001b[0msequence\u001b[0m\u001b[1;33m[\u001b[0m\u001b[0mi\u001b[0m\u001b[1;33m]\u001b[0m \u001b[1;33m=\u001b[0m \u001b[1;32mNone\u001b[0m \u001b[1;32mif\u001b[0m \u001b[0m_aresame\u001b[0m\u001b[1;33m(\u001b[0m\u001b[1;33m*\u001b[0m\u001b[0ms\u001b[0m\u001b[1;33m)\u001b[0m \u001b[1;32melse\u001b[0m \u001b[0mtuple\u001b[0m\u001b[1;33m(\u001b[0m\u001b[0ms\u001b[0m\u001b[1;33m)\u001b[0m\u001b[1;33m\u001b[0m\u001b[1;33m\u001b[0m\u001b[0m\n\u001b[1;32m--> 940\u001b[1;33m         \u001b[0msequence\u001b[0m \u001b[1;33m=\u001b[0m \u001b[0mlist\u001b[0m\u001b[1;33m(\u001b[0m\u001b[0mfilter\u001b[0m\u001b[1;33m(\u001b[0m\u001b[1;32mNone\u001b[0m\u001b[1;33m,\u001b[0m \u001b[0msequence\u001b[0m\u001b[1;33m)\u001b[0m\u001b[1;33m)\u001b[0m\u001b[1;33m\u001b[0m\u001b[1;33m\u001b[0m\u001b[0m\n\u001b[0m\u001b[0;32m    941\u001b[0m \u001b[1;33m\u001b[0m\u001b[0m\n\u001b[0;32m    942\u001b[0m         \u001b[1;32mif\u001b[0m \u001b[0munordered\u001b[0m\u001b[1;33m:\u001b[0m\u001b[1;33m\u001b[0m\u001b[1;33m\u001b[0m\u001b[0m\n",
      "\u001b[1;31mKeyboardInterrupt\u001b[0m: "
     ]
    }
   ],
   "source": [
    "#9 - Iterando, printa a tabela das iterações\n",
    "err = 0.001\n",
    "\n",
    "if (x0>x1 and x2>x1) or (x0<x1 and x2<x1):\n",
    "    method = 'oscila'\n",
    "elif x0<x1<x2:\n",
    "    method = 'crescente'\n",
    "elif x0>x1>x2:\n",
    "    method = 'decrescente'\n",
    "\n",
    "x_aux = x0\n",
    "x1 = f.subs(x, x0)\n",
    "teta, f_teta, f_linha, fi_teta, teta_err = [], [], [], [], []\n",
    "\n",
    "if method == 'oscila':\n",
    "    while not Abs(x1-x0)/2 < err:\n",
    "        x0 = x_aux\n",
    "        teta.append(x0)\n",
    "        f_teta.append(f.subs(x, x0).evalf())\n",
    "        f_linha.append(der1.subs(x, x0).evalf())\n",
    "        x1 = fi.subs(x, x0).evalf()\n",
    "        fi_teta.append(x1)\n",
    "        x_aux = x1\n",
    "    dic = {'teta': teta, 'f_teta': f_teta, 'f_linha': f_linha, 'fi_teta': fi_teta}\n",
    "    \n",
    "if method == 'crescente':\n",
    "    while not f.subs(x, x0)*f.subs(x, x1) < 0:\n",
    "        x0 = x_aux\n",
    "        teta.append(x0)\n",
    "        x0 = x0+2*err\n",
    "        teta_err.append(x0)\n",
    "        f_teta.append(f.subs(x, x0).evalf())\n",
    "        f_linha.append(der1.subs(x, x0).evalf())\n",
    "        x1 = fi.subs(x, x0).evalf()\n",
    "        fi_teta.append(x1)\n",
    "        x_aux = x1\n",
    "    dic = {'teta': teta, 'teta_err': teta_err, 'f_teta': f_teta, 'f_linha': f_linha, 'fi_teta': fi_teta}\n",
    "    \n",
    "if method == 'decrescente':\n",
    "    while not f.subs(x, x0)*f.subs(x, x1) < 0:\n",
    "        x0 = x_aux\n",
    "        teta.append(x0)\n",
    "        teta_err.append(x0-2*err)\n",
    "        f_teta.append(f.subs(x, x0).evalf())\n",
    "        f_linha.append(der1.subs(x, x0).evalf())\n",
    "        x1 = fi.subs(x, x0).evalf()\n",
    "        fi_teta.append(x1)\n",
    "        x_aux = x1\n",
    "    dic = {'teta': teta, 'teta_err': teta_err, 'f_teta': f_teta, 'f_linha': f_linha, 'fi_teta': fi_teta}\n",
    "\n",
    "print(method.upper())\n",
    "df = pd.DataFrame.from_dict(dic)\n",
    "df"
   ]
  },
  {
   "cell_type": "code",
   "execution_count": null,
   "metadata": {},
   "outputs": [],
   "source": [
    "#10 - calcula x_til\n",
    "x_n = df.iloc[-1].teta\n",
    "x_n1 = df.iloc[-1].fi_teta\n",
    "\n",
    "if method == 'oscila': x_til = (x_n + x_n1)/2\n",
    "elif method == 'crescente': x_til = x_n + err\n",
    "elif method == 'decrescente': x_til = x_n - err\n",
    "\n",
    "x_til"
   ]
  },
  {
   "cell_type": "code",
   "execution_count": null,
   "metadata": {},
   "outputs": [],
   "source": []
  }
 ],
 "metadata": {
  "kernelspec": {
   "display_name": "Python 3",
   "language": "python",
   "name": "python3"
  },
  "language_info": {
   "codemirror_mode": {
    "name": "ipython",
    "version": 3
   },
   "file_extension": ".py",
   "mimetype": "text/x-python",
   "name": "python",
   "nbconvert_exporter": "python",
   "pygments_lexer": "ipython3",
   "version": "3.7.7"
  }
 },
 "nbformat": 4,
 "nbformat_minor": 4
}
