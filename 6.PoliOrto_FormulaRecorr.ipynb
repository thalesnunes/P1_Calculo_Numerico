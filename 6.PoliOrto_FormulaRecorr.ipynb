{
 "cells": [
  {
   "cell_type": "code",
   "execution_count": null,
   "metadata": {},
   "outputs": [],
   "source": [
    "from sympy import *"
   ]
  },
  {
   "cell_type": "code",
   "execution_count": null,
   "metadata": {},
   "outputs": [],
   "source": [
    "#1 - MUDAR LIMITES DE INTEGRAÇÃO E O NÚMERO DE POLINÔMIOS DESEJADOS\n",
    "x = Symbol('x')\n",
    "\n",
    "low = -1\n",
    "high = 1\n",
    "\n",
    "n_pol = 3"
   ]
  },
  {
   "cell_type": "code",
   "execution_count": null,
   "metadata": {},
   "outputs": [],
   "source": [
    "#2 - SE O PRODUTO INTERNO FOR DIFERENTE, ALTERAR A FUNÇÃO\n",
    "p_all = {-1: 0, 0: 1}\n",
    "prod_int = lambda f, g: integrate(f*g, (x, low, high))\n",
    "pk = lambda alfa, beta, pk_1, pk_2: (x - alfa)*pk_1 - beta*pk_2"
   ]
  },
  {
   "cell_type": "code",
   "execution_count": null,
   "metadata": {},
   "outputs": [],
   "source": [
    "#3 - SÓ RODAR\n",
    "for k in range(n_pol-1):\n",
    "    pk_1 = p_all[k]\n",
    "    pk_2 = p_all[k-1]\n",
    "    alfa = prod_int(x*pk_1, pk_1)/prod_int(pk_1, pk_1)\n",
    "    beta = prod_int(x*pk_1, pk_2)/prod_int(pk_2, pk_2)\n",
    "    if pk_2 == 0:\n",
    "        beta = 0\n",
    "    pk_novo = pk(alfa, beta, pk_1, pk_2)\n",
    "    p_all[k+1] = pk_novo\n",
    "\n",
    "p_all.pop(-1)\n",
    "    \n",
    "for key in p_all:\n",
    "    print(f'p{key}: {p_all[key] if type(p_all[key]) == int else p_all[key].simplify()}')"
   ]
  },
  {
   "cell_type": "code",
   "execution_count": null,
   "metadata": {},
   "outputs": [],
   "source": [
    "#################################\n",
    "###     PoliOrto JÁ DADO      ###\n",
    "#################################\n",
    "\n",
    "f = exp(x) + exp(-x)\n",
    "p_all = {0: 1, 1: x, 2: x**2 - 1/3, 3: x**3 - (3*x)/5}\n",
    "\n",
    "ak = {}\n",
    "for i in range(len(p_all)):\n",
    "    ak[i] = prod_int(p_all[i], f)/prod_int(p_all[i], p_all[i])\n",
    "\n",
    "for key in ak:\n",
    "    print(f'a{key}: {ak[key]}')\n",
    "    \n",
    "Gx = 0\n",
    "for i in range(len(ak)):\n",
    "    Gx += ak[i]*p_all[i]\n",
    "\n",
    "Gx"
   ]
  },
  {
   "cell_type": "code",
   "execution_count": null,
   "metadata": {},
   "outputs": [],
   "source": [
    "# MUDANÇA DE VARIÁVEL\n",
    "t = Symbol('t')\n",
    "t = 2*x\n",
    "Gx.subs(x, t)"
   ]
  }
 ],
 "metadata": {
  "kernelspec": {
   "display_name": "Python 3.7.7 64-bit ('tensor_flow': conda)",
   "language": "python",
   "name": "python37764bittensorflowcondaf80c0e406c914652a4ecbd43f559b156"
  },
  "language_info": {
   "codemirror_mode": {
    "name": "ipython",
    "version": 3
   },
   "file_extension": ".py",
   "mimetype": "text/x-python",
   "name": "python",
   "nbconvert_exporter": "python",
   "pygments_lexer": "ipython3",
   "version": "3.7.7"
  }
 },
 "nbformat": 4,
 "nbformat_minor": 2
}
