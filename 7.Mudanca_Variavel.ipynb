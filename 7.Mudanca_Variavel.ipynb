{
 "cells": [
  {
   "cell_type": "code",
   "execution_count": null,
   "metadata": {},
   "outputs": [],
   "source": [
    "from sympy import *"
   ]
  },
  {
   "cell_type": "code",
   "execution_count": null,
   "metadata": {},
   "outputs": [],
   "source": [
    "#1 - MUDAR GRAU DA APROXIMAÇÃO\n",
    "x = Symbol('x')\n",
    "\n",
    "grau_aprox = 2"
   ]
  },
  {
   "cell_type": "code",
   "execution_count": null,
   "metadata": {},
   "outputs": [],
   "source": [
    "#2 - SÓ RODAR\n",
    "def gera_legendre(numero):\n",
    "    p_all = {}\n",
    "    for n in range(numero):\n",
    "        for der in range(n+1):\n",
    "            if der == 0:\n",
    "                expr = (x**2-1)**n\n",
    "                continue\n",
    "            expr = diff(expr)\n",
    "        p_all[n] = (1/(factorial(n)*2**n))*expr\n",
    "    return p_all\n",
    "prod_int = lambda f, g: integrate(f*g, (x, -1, 1))"
   ]
  },
  {
   "cell_type": "code",
   "execution_count": null,
   "metadata": {},
   "outputs": [],
   "source": [
    "#3 - ESCREVER f(y(x)), Gx VAI SER A APROXIMAÇÃO EM x DO POLINÔMIO\n",
    "f = sin(pi/2*x + pi/2)\n",
    "\n",
    "p_all = gera_legendre(grau_aprox+1)\n",
    "\n",
    "ak = {}\n",
    "for i in range(len(p_all)):\n",
    "    ak[i] = prod_int(p_all[i], f)/prod_int(p_all[i], p_all[i])\n",
    "\n",
    "Gx = 0\n",
    "for i in range(len(ak)):\n",
    "    Gx += ak[i]*p_all[i]\n",
    "\n",
    "Gx"
   ]
  },
  {
   "cell_type": "code",
   "execution_count": null,
   "metadata": {},
   "outputs": [],
   "source": [
    "#4 - MUDANÇA DE VOLTA PRA VARIÁVEL t\n",
    "t = 2*x\n",
    "Gx.subs(x, t)"
   ]
  }
 ],
 "metadata": {
  "kernelspec": {
   "display_name": "Python 3.7.7 64-bit ('tensor_flow': conda)",
   "language": "python",
   "name": "python37764bittensorflowcondaf80c0e406c914652a4ecbd43f559b156"
  },
  "language_info": {
   "codemirror_mode": {
    "name": "ipython",
    "version": 3
   },
   "file_extension": ".py",
   "mimetype": "text/x-python",
   "name": "python",
   "nbconvert_exporter": "python",
   "pygments_lexer": "ipython3",
   "version": "3.7.7"
  }
 },
 "nbformat": 4,
 "nbformat_minor": 2
}
