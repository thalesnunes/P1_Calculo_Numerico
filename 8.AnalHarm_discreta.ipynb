{
 "cells": [
  {
   "cell_type": "code",
   "execution_count": null,
   "metadata": {},
   "outputs": [],
   "source": [
    "from sympy import *\n",
    "from statistics import mean"
   ]
  },
  {
   "cell_type": "code",
   "execution_count": null,
   "metadata": {},
   "outputs": [],
   "source": [
    "#1 - PREENCHER f COM OS VALORES {x: f(x)}, COLOCAR N E O NÚMERO DE HARMÔNICOS DESEJADOS\n",
    "x = Symbol('x')\n",
    "\n",
    "f = {1: 3, 2: 5, 3: 7, 4: 6}\n",
    "N = 2\n",
    "n_harm = 1\n",
    "\n",
    "a0 = mean(f.values())\n",
    "gx = a0\n",
    "gx"
   ]
  },
  {
   "cell_type": "code",
   "execution_count": null,
   "metadata": {},
   "outputs": [],
   "source": [
    "#2 - SÓ RODAR\n",
    "ak = {}\n",
    "bk = {}\n",
    "\n",
    "for k in range(1, n_harm+1):\n",
    "    soma_a = 0\n",
    "    soma_b = 0\n",
    "    for j in range(1, 2*N+1):\n",
    "        soma_a += f[j]*cos(k*(pi/N)*j)\n",
    "        soma_b += f[j]*sin(k*(pi/N)*j)\n",
    "    ak[k] = soma_a/N\n",
    "    bk[k] = soma_b/N\n",
    "\n",
    "for k in range(1, len(ak)+1):\n",
    "    gx += ak[k]*cos(k*x) + bk[k]*sin(k*x)\n",
    "    print(f'a{k}: {ak[k]}')\n",
    "    print(f'b{k}: {bk[k]}')"
   ]
  },
  {
   "cell_type": "code",
   "execution_count": null,
   "metadata": {},
   "outputs": [],
   "source": [
    "#3 - SÓ RODAR\n",
    "gx"
   ]
  },
  {
   "cell_type": "code",
   "execution_count": null,
   "metadata": {},
   "outputs": [],
   "source": [
    "########################################\n",
    "##Transformar em a0 + Ak sin(kx + fik)##\n",
    "########################################\n",
    "#4 - SE FOR SÓ TRANSFORMAR, MUDAR gx, SE NÃO, SÓ RODAR\n",
    "#gx = (se enunciado só pedir pra transformar)\n",
    "\n",
    "A = {}\n",
    "b = {}\n",
    "\n",
    "for k in range(1, n_harm+1):\n",
    "    A[k] = sqrt(ak[k]**2 + bk[k]**2)\n",
    "    sinb = ak[k]/A[k]\n",
    "    cosb = bk[k]/A[k]\n",
    "    if asin(sinb).evalf() == acos(cosb).evalf():\n",
    "        b[k] = asin(sinb).evalf()\n",
    "    elif (pi-asin(sinb)).evalf() == acos(cosb).evalf():\n",
    "        b[k] = acos(cosb).evalf()\n",
    "    elif (pi-asin(sinb)).evalf() == -acos(cosb).evalf():\n",
    "        b[k] = -acos(cosb).evalf()\n",
    "    elif asin(sinb).evalf() == -acos(cosb).evalf():\n",
    "        b[k] = asin(sinb).evalf()\n",
    "\n",
    "gx_transf = a0\n",
    "\n",
    "for k in range(1, len(A)+1):\n",
    "    gx_transf += A[k]*sin(x + b[k])\n",
    "\n",
    "gx_transf"
   ]
  }
 ],
 "metadata": {
  "language_info": {
   "codemirror_mode": {
    "name": "ipython",
    "version": 3
   },
   "file_extension": ".py",
   "mimetype": "text/x-python",
   "name": "python",
   "nbconvert_exporter": "python",
   "pygments_lexer": "ipython3",
   "version": "3.7.7-final"
  },
  "orig_nbformat": 2,
  "kernelspec": {
   "name": "python37764bittensorflowcondaf80c0e406c914652a4ecbd43f559b156",
   "display_name": "Python 3.7.7 64-bit ('tensor_flow': conda)"
  }
 },
 "nbformat": 4,
 "nbformat_minor": 2
}