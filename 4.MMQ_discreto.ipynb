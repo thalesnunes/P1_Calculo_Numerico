{
 "cells": [
  {
   "cell_type": "code",
   "execution_count": null,
   "metadata": {},
   "outputs": [],
   "source": [
    "import scipy\n",
    "import scipy.linalg\n",
    "from EP2.EP2 import monta_sistema_min_qua, resolve_x_matriz"
   ]
  },
  {
   "cell_type": "code",
   "execution_count": null,
   "metadata": {},
   "outputs": [],
   "source": [
    "#1 - SUBSTITUIR DADOS PELA TABELA DADA, F PELO VETOR RESPOSTA E G PELOS G(X)\n",
    "\n",
    "dados = {'f': scipy.array([51.34, 52.72, 40.6, 27.78, 17.84]),\n",
    "         'x': scipy.array([2, 4, 6, 8, 10])}\n",
    "\n",
    "f = scipy.array([1, 2, 3, 1, 2, 1])  # scipy.log(dados['f']/dados['x'])\n",
    "g = {'x1': scipy.array([1, 0, 0, -1, 0, -1]), 'x2': scipy.array([0, 1, 0, 1, -1, 0]), 'x3': scipy.array([0, 0, 1, 0, 1, 1])}\n",
    "print(f)"
   ]
  },
  {
   "cell_type": "code",
   "execution_count": null,
   "metadata": {},
   "outputs": [],
   "source": [
    "#2 - RODAR, A E B SÃO AS MATRIZES DO SISTEMA DE MINIMOS QUADRADOS\n",
    "A, b = monta_sistema_min_qua(g, f)\n",
    "A, b = scipy.array(A), scipy.array(b)\n",
    "print(A)\n",
    "print(b)"
   ]
  },
  {
   "cell_type": "code",
   "execution_count": null,
   "metadata": {},
   "outputs": [],
   "source": [
    "#3 - COEFICIENTES, AINDA SEM FAZER AS CONTAS FINAIS\n",
    "coefs = resolve_x_matriz(A, b)\n",
    "coefs"
   ]
  },
  {
   "cell_type": "code",
   "execution_count": null,
   "metadata": {},
   "outputs": [],
   "source": [
    "#4 - CONTAS FINAIS, MUDAR TUDO\n",
    "alfa = coefs[0]  # scipy.exp(coefs[0])/400\n",
    "alfa"
   ]
  },
  {
   "cell_type": "code",
   "execution_count": null,
   "metadata": {},
   "outputs": [],
   "source": [
    "#5 - CONTAS FINAIS, MUDAR TUDO\n",
    "beta = coefs[1]\n",
    "beta"
   ]
  },
  {
   "cell_type": "code",
   "execution_count": null,
   "metadata": {},
   "outputs": [],
   "source": [
    "gama = coefs[2]\n",
    "gama"
   ]
  }
 ],
 "metadata": {
  "language_info": {
   "codemirror_mode": {
    "name": "ipython",
    "version": 3
   },
   "file_extension": ".py",
   "mimetype": "text/x-python",
   "name": "python",
   "nbconvert_exporter": "python",
   "pygments_lexer": "ipython3",
   "version": "3.7.7-final"
  },
  "orig_nbformat": 2,
  "kernelspec": {
   "name": "python37764bittensorflowcondaf80c0e406c914652a4ecbd43f559b156",
   "display_name": "Python 3.7.7 64-bit ('tensor_flow': conda)"
  }
 },
 "nbformat": 4,
 "nbformat_minor": 2
}