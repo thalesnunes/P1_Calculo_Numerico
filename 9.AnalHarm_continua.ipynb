{
 "cells": [
  {
   "cell_type": "code",
   "execution_count": null,
   "metadata": {},
   "outputs": [],
   "source": [
    "from sympy import *"
   ]
  },
  {
   "cell_type": "code",
   "execution_count": null,
   "metadata": {},
   "outputs": [],
   "source": [
    "#1 - PREENCHER f, COLOCAR L E O NÚMERO DE HARMÔNICOS DESEJADOS\n",
    "x = Symbol('x')\n",
    "\n",
    "f = exp(x)\n",
    "\n",
    "L = pi\n",
    "n_harm = 1"
   ]
  },
  {
   "cell_type": "code",
   "execution_count": null,
   "metadata": {},
   "outputs": [],
   "source": [
    "ak = {}\n",
    "bk = {}\n",
    "\n",
    "a0 = integrate(f, (x, -L, L))/(2*L)\n",
    "\n",
    "for k in range(1, n_harm+1):\n",
    "    ak[k] = integrate(f*cos((k*pi/L)*x), (x, -L, L))/L\n",
    "    bk[k] = integrate(f*sin((k*pi/L)*x), (x, -L, L))/L\n",
    "\n",
    "gx = a0\n",
    "for k in range(1, len(ak)+1):\n",
    "    gx += ak[k]*cos((k*pi/L)*x) + bk[k]*sin((k*pi/L)*x)\n",
    "\n",
    "gx"
   ]
  }
 ],
 "metadata": {
  "language_info": {
   "codemirror_mode": {
    "name": "ipython",
    "version": 3
   },
   "file_extension": ".py",
   "mimetype": "text/x-python",
   "name": "python",
   "nbconvert_exporter": "python",
   "pygments_lexer": "ipython3",
   "version": "3.7.7-final"
  },
  "orig_nbformat": 2,
  "kernelspec": {
   "name": "python37764bittensorflowcondaf80c0e406c914652a4ecbd43f559b156",
   "display_name": "Python 3.7.7 64-bit ('tensor_flow': conda)"
  }
 },
 "nbformat": 4,
 "nbformat_minor": 2
}