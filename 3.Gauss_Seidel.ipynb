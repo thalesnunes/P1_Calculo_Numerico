{
 "cells": [
  {
   "cell_type": "code",
   "execution_count": null,
   "metadata": {},
   "outputs": [],
   "source": [
    "from sympy import *\n",
    "from fractions import Fraction\n",
    "from math import ceil"
   ]
  },
  {
   "cell_type": "code",
   "execution_count": null,
   "metadata": {},
   "outputs": [],
   "source": [
    "#1 - ALTERAR O VALOR DE A E B, LEMBRANDO DE COLOCAR JÁ COM A CONDENSAÇÃO PIVOTAL FEITA\n",
    "A = [[14, 4, -9], [10, -18, 8], [9, -8, -17]]\n",
    "b = [4, 4, 4]"
   ]
  },
  {
   "cell_type": "code",
   "execution_count": null,
   "metadata": {},
   "outputs": [],
   "source": [
    "#2 - SÓ RODAR, CALCULA TODOS OS BETAS E CHECA SE CONVERGE\n",
    "beta = {i+1: 1 for i in range(len(A))}\n",
    "\n",
    "for i in range(len(A)):\n",
    "    soma = 0\n",
    "    for j in range(len(A[0])):\n",
    "        if not i == j: soma += abs(A[i][j])*beta[j+1] \n",
    "    beta[i+1] = soma/abs(A[i][i])\n",
    "\n",
    "for key in beta:\n",
    "    print(f'Beta{key}: {beta[key]}')\n",
    "\n",
    "if max(beta.values()) >= 1:\n",
    "    print('NÃO CONVERGE')\n",
    "    conv = False\n",
    "else:\n",
    "    print('CONVERGE')\n",
    "    conv = True"
   ]
  },
  {
   "cell_type": "code",
   "execution_count": null,
   "metadata": {},
   "outputs": [],
   "source": [
    "#3 - ALTERAR OS VALORES DE X0 PELOS DADOS NO ENUNCIADO, RODAR\n",
    "x0 = [1, -0.5, 0]\n",
    "x = [0] * len(A)\n",
    "\n",
    "for i in range(len(x)):\n",
    "    soma = 0\n",
    "    for j in range(len(A[0])):\n",
    "        if not i == j: soma += A[i][j]*(x0[j] if x[j] == 0 else x[j])\n",
    "    x[i] = (b[i] - soma)/A[i][i]\n",
    "    print(f'x{i+1}: {Fraction(x[i])}')"
   ]
  },
  {
   "cell_type": "code",
   "execution_count": null,
   "metadata": {},
   "outputs": [],
   "source": [
    "#4 - CHECAR SE SÓ UMA ITERAÇÃO FOI FEITA (K_FEITO), ALTERAR O ERR_DADO COM O ERRO PEDIDO NO ENUNCIADO\n",
    "k_feito = 1\n",
    "err_calc = max(beta.values())**k_feito/(1 - max(beta.values())) * max([x[i] - x0[i] for i in range(len(x))])\n",
    "print(f'Erro calculado: {err_calc}')\n",
    "\n",
    "err_dado = 0.001\n",
    "k = Symbol('k')\n",
    "esq = max(beta.values())**k/(1 - max(beta.values())) * max([x[i] - x0[i] for i in range(len(x))])\n",
    "n_int = solvers.solve(err_dado - esq, k)\n",
    "\n",
    "print(f'Número mínimo de iterações: {ceil(n_int[0])}')"
   ]
  }
 ],
 "metadata": {
  "kernelspec": {
   "display_name": "Python 3",
   "language": "python",
   "name": "python3"
  },
  "language_info": {
   "codemirror_mode": {
    "name": "ipython",
    "version": 3
   },
   "file_extension": ".py",
   "mimetype": "text/x-python",
   "name": "python",
   "nbconvert_exporter": "python",
   "pygments_lexer": "ipython3",
   "version": "3.7.7"
  }
 },
 "nbformat": 4,
 "nbformat_minor": 4
}
