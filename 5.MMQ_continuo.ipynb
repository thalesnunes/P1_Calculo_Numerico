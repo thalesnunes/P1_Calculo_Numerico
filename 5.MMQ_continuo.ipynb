{
 "cells": [
  {
   "cell_type": "code",
   "execution_count": 3,
   "metadata": {},
   "outputs": [],
   "source": [
    "import sympy as sp\n",
    "from EP2.EP2 import resolve_x_matriz\n",
    "from pprint import pprint"
   ]
  },
  {
   "cell_type": "code",
   "execution_count": 4,
   "metadata": {},
   "outputs": [],
   "source": [
    "#1 - SÓ RODAR\n",
    "def prod_int(u, v, low, high):\n",
    "    \n",
    "    z = sp.integrate(u*v, (x, low, high))\n",
    "    return float(z)\n",
    "\n",
    "\n",
    "def monta_sistema_min_qua(dict_p_u, uT, low, high):\n",
    "    \n",
    "    matriz_final = [[0] * len(dict_p_u) for n in range (len(dict_p_u))]\n",
    "    solucao = [0] * len(dict_p_u)\n",
    "    for i, u1 in enumerate(dict_p_u.values()):\n",
    "        for j, u2 in enumerate(dict_p_u.values()):\n",
    "            matriz_final[i][j] = prod_int(u1, u2, low, high)\n",
    "        solucao[i] = prod_int(uT, u1, low, high)\n",
    "\n",
    "    return matriz_final, solucao"
   ]
  },
  {
   "cell_type": "code",
   "execution_count": 5,
   "metadata": {},
   "outputs": [
    {
     "output_type": "error",
     "ename": "NameError",
     "evalue": "name 'exp' is not defined",
     "traceback": [
      "\u001b[1;31m---------------------------------------------------------------------------\u001b[0m",
      "\u001b[1;31mNameError\u001b[0m                                 Traceback (most recent call last)",
      "\u001b[1;32m<ipython-input-5-224cfb350ed2>\u001b[0m in \u001b[0;36m<module>\u001b[1;34m\u001b[0m\n\u001b[0;32m      2\u001b[0m \u001b[0mx\u001b[0m \u001b[1;33m=\u001b[0m \u001b[0msp\u001b[0m\u001b[1;33m.\u001b[0m\u001b[0mSymbol\u001b[0m\u001b[1;33m(\u001b[0m\u001b[1;34m'x'\u001b[0m\u001b[1;33m)\u001b[0m\u001b[1;33m\u001b[0m\u001b[1;33m\u001b[0m\u001b[0m\n\u001b[0;32m      3\u001b[0m \u001b[1;33m\u001b[0m\u001b[0m\n\u001b[1;32m----> 4\u001b[1;33m \u001b[0mf\u001b[0m \u001b[1;33m=\u001b[0m \u001b[0mexp\u001b[0m\u001b[1;33m(\u001b[0m\u001b[1;36m2\u001b[0m\u001b[1;33m*\u001b[0m\u001b[0mx\u001b[0m\u001b[1;33m)\u001b[0m \u001b[1;33m+\u001b[0m \u001b[0mexp\u001b[0m\u001b[1;33m(\u001b[0m\u001b[1;33m-\u001b[0m\u001b[1;36m2\u001b[0m\u001b[1;33m*\u001b[0m\u001b[0mx\u001b[0m\u001b[1;33m)\u001b[0m\u001b[1;33m\u001b[0m\u001b[1;33m\u001b[0m\u001b[0m\n\u001b[0m\u001b[0;32m      5\u001b[0m \u001b[0mg\u001b[0m \u001b[1;33m=\u001b[0m \u001b[1;33m{\u001b[0m\u001b[1;34m'g0'\u001b[0m\u001b[1;33m:\u001b[0m \u001b[1;36m1\u001b[0m\u001b[1;33m,\u001b[0m \u001b[1;34m'g1'\u001b[0m\u001b[1;33m:\u001b[0m \u001b[0mx\u001b[0m\u001b[1;33m}\u001b[0m\u001b[1;33m\u001b[0m\u001b[1;33m\u001b[0m\u001b[0m\n\u001b[0;32m      6\u001b[0m \u001b[1;33m\u001b[0m\u001b[0m\n",
      "\u001b[1;31mNameError\u001b[0m: name 'exp' is not defined"
     ]
    }
   ],
   "source": [
    "#2 - MUDAR f, g, low E high, RODAR\n",
    "x = sp.Symbol('x')\n",
    "\n",
    "f = sp.exp(2*x) + sp.exp(-2*x)\n",
    "g = {'g0': 1, 'g1': x}\n",
    "\n",
    "low = -0.5\n",
    "high = 0.5\n",
    "\n",
    "A, b = monta_sistema_min_qua(g, f, low, high)\n",
    "pprint(A)\n",
    "print(b)"
   ]
  },
  {
   "cell_type": "code",
   "execution_count": null,
   "metadata": {},
   "outputs": [],
   "source": [
    "#3 - SÓ RODAR \n",
    "x = resolve_x_matriz(A, b)\n",
    "x"
   ]
  }
 ],
 "metadata": {
  "language_info": {
   "codemirror_mode": {
    "name": "ipython",
    "version": 3
   },
   "file_extension": ".py",
   "mimetype": "text/x-python",
   "name": "python",
   "nbconvert_exporter": "python",
   "pygments_lexer": "ipython3",
   "version": "3.7.7-final"
  },
  "orig_nbformat": 2,
  "kernelspec": {
   "name": "python37764bittensorflowcondaf80c0e406c914652a4ecbd43f559b156",
   "display_name": "Python 3.7.7 64-bit ('tensor_flow': conda)"
  }
 },
 "nbformat": 4,
 "nbformat_minor": 2
}